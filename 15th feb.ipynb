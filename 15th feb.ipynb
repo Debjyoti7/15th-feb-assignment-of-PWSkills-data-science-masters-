{
 "cells": [
  {
   "cell_type": "markdown",
   "id": "bc905399-54a4-4583-b1a1-893bcab511c6",
   "metadata": {},
   "source": [
    "# Q1. What is multiprocessing in python? Why is it useful?"
   ]
  },
  {
   "cell_type": "markdown",
   "id": "69d7ab59-b346-4d88-a86f-64b8add678d0",
   "metadata": {},
   "source": [
    "# Multiprocessing is a feature in Python that allows a program to use multiple CPUs or cores to execute tasks in parallel. In multiprocessing, a program creates multiple processes, each of which runs in its own memory space and can execute tasks independently."
   ]
  },
  {
   "cell_type": "markdown",
   "id": "c1bdeefb-a369-4c97-a7a0-48b79431a0f1",
   "metadata": {},
   "source": [
    "## Multiprocessing is useful for a variety of reasons, including:\n",
    "\n",
    "## Improved performance: Multiprocessing can improve the performance of a program by allowing multiple tasks to be executed simultaneously on different CPU cores, which can reduce the time required to complete a task.\n",
    "\n",
    "## Resource sharing: Multiprocessing can allow multiple processes to share resources, such as memory, network connections, and file handles, which can reduce the amount of memory and processing power required by a program.\n",
    "\n",
    "## Fault tolerance: Multiprocessing can make a program more fault-tolerant by allowing processes to run independently of each other. If one process crashes, the others can continue running, which can improve the reliability of the program.\n",
    "\n",
    "## Simplified design: Multiprocessing can simplify the design of a program by allowing complex tasks to be divided into smaller, more manageable units that can be executed in parallel.\n",
    "\n",
    "## Cross-platform compatibility: Multiprocessing is available on all major operating systems, including Windows, Linux, and macOS, which makes it a reliable and cross-platform solution for parallel computing."
   ]
  },
  {
   "cell_type": "markdown",
   "id": "8f3463ec-37a7-4655-af09-d96ae69ccf1f",
   "metadata": {},
   "source": [
    "# Overall, multiprocessing is a powerful tool for improving the performance and reliability of programs that require significant processing power or that need to execute tasks in parallel. However, it also introduces challenges and trade-offs that must be carefully considered, such as the overhead of inter-process communication, the increased complexity of programming, and the need to manage shared resources effectively."
   ]
  },
  {
   "cell_type": "markdown",
   "id": "c498bd01-c941-4519-b89f-139f901311de",
   "metadata": {},
   "source": [
    "# Q2. What are the differences between multiprocessing and multithreading?"
   ]
  },
  {
   "cell_type": "markdown",
   "id": "d8863b64-57f2-48ba-b9c1-e37d60de2fda",
   "metadata": {},
   "source": [
    "# The main differences between multiprocessing and multithreading are:\n",
    "\n",
    "## Memory space: In multiprocessing, each process runs in its own memory space, while in multithreading, all threads share the same memory space.\n",
    "\n",
    "## CPU cores: In multiprocessing, each process can run on a different CPU core, while in multithreading, all threads run on the same core.\n",
    "\n",
    "## Overhead: Multiprocessing has a higher overhead than multithreading, because inter-process communication (IPC) is required to share data between processes. In multithreading, data can be shared more efficiently, because all threads share the same memory space.\n",
    "\n",
    "## Complexity: Multiprocessing can be more complex to implement than multithreading, because processes must be created and managed, and IPC mechanisms must be used to share data. In contrast, multithreading is simpler to implement, because threads can be created and managed more easily, and data sharing is simpler.\n",
    "\n",
    "## Compatibility: Multiprocessing is generally more compatible with older, single-core CPUs and older operating systems, while multithreading is better suited to modern, multi-core CPUs and newer operating systems.\n",
    "\n"
   ]
  },
  {
   "cell_type": "markdown",
   "id": "6eb8683d-3408-4387-9b8a-2938ae99a465",
   "metadata": {},
   "source": [
    "# Q3. Write a python code to create a process using the multiprocessing module."
   ]
  },
  {
   "cell_type": "code",
   "execution_count": 1,
   "id": "45bddae3-137d-4fe3-8ffe-7497066c612f",
   "metadata": {},
   "outputs": [
    {
     "name": "stdout",
     "output_type": "stream",
     "text": [
      "Worker process is executing here\n"
     ]
    }
   ],
   "source": [
    "import multiprocessing\n",
    "\n",
    "def worker():\n",
    "    \"\"\"A simple worker function that prints a message.\"\"\"\n",
    "    print(\"Worker process is executing here\")\n",
    "\n",
    "if __name__ == '__main__':\n",
    "    # Create a new process\n",
    "    p = multiprocessing.Process(target=worker)\n",
    "    # Start the process\n",
    "    p.start()\n",
    "    # Wait for the process to finish\n",
    "    p.join()\n"
   ]
  },
  {
   "cell_type": "markdown",
   "id": "e4dd62c1-9d68-43b4-91da-57f23f6314b2",
   "metadata": {},
   "source": [
    "# Q4. What is a multiprocessing pool in python? Why is it used?"
   ]
  },
  {
   "cell_type": "markdown",
   "id": "d2e4bdd4-2f1e-443e-8a33-5da83869d898",
   "metadata": {},
   "source": [
    "## A multiprocessing pool in Python is a collection of worker processes that can be used to execute a set of tasks in parallel. The multiprocessing module provides a Pool class that allows you to create a pool of worker processes and submit tasks to the pool for execution.\n",
    "\n",
    "## The Pool class provides a simple interface for parallelizing the execution of a function across multiple input values, distributing the inputs across a pool of worker processes. The Pool class manages the creation and coordination of the worker processes, and allows you to submit tasks to the pool using the apply(), map(), and imap() methods.\n",
    "\n",
    "## The Pool class is useful when you have a large number of similar tasks to perform and you want to distribute the work across multiple CPUs or cores to improve performance. By using a pool of worker processes, you can execute multiple tasks in parallel and reduce the time required to complete the work."
   ]
  },
  {
   "cell_type": "code",
   "execution_count": 2,
   "id": "a1650e02-4c48-432f-aea9-decfe306d6ba",
   "metadata": {},
   "outputs": [
    {
     "name": "stdout",
     "output_type": "stream",
     "text": [
      "[1, 4, 9, 16, 25]\n"
     ]
    }
   ],
   "source": [
    "import multiprocessing\n",
    "\n",
    "def square(x):\n",
    "    \"\"\"A simple function that squares a number.\"\"\"\n",
    "    return x * x\n",
    "\n",
    "if __name__ == '__main__':\n",
    "    # Create a pool of worker processes\n",
    "    with multiprocessing.Pool() as pool:\n",
    "        # Submit a set of tasks to the pool\n",
    "        results = pool.map(square, [1, 2, 3, 4, 5])\n",
    "        # Print the results\n",
    "        print(results)\n"
   ]
  },
  {
   "cell_type": "markdown",
   "id": "0948f752-b67e-478f-98b7-2b1cf9c7bdc8",
   "metadata": {},
   "source": [
    "# Q5. How can we create a pool of worker processes in python using the multiprocessing module?"
   ]
  },
  {
   "cell_type": "code",
   "execution_count": 3,
   "id": "3184cb28-611f-417a-a7f3-4925ae28eefd",
   "metadata": {},
   "outputs": [
    {
     "name": "stdout",
     "output_type": "stream",
     "text": [
      "Worker 0 executing...Worker 1 executing...Worker 3 executing...Worker 2 executing...\n",
      "\n",
      "\n",
      "\n"
     ]
    }
   ],
   "source": [
    "import multiprocessing\n",
    "\n",
    "def worker(num):\n",
    "    \"\"\"A simple worker function that prints a message.\"\"\"\n",
    "    print(f\"Worker {num} executing...\")\n",
    "\n",
    "if __name__ == '__main__':\n",
    "    # Create a pool of worker processes\n",
    "    with multiprocessing.Pool(processes=4) as pool:\n",
    "        # Submit some tasks to the pool\n",
    "        results = [pool.apply_async(worker, args=(i,)) for i in range(4)]\n",
    "        # Wait for the tasks to finish\n",
    "        for result in results:\n",
    "            result.get()\n"
   ]
  },
  {
   "cell_type": "markdown",
   "id": "b643325f-f189-4c53-a8ba-6c48078d9d41",
   "metadata": {},
   "source": [
    "# Q6. Write a python program to create 4 processes, each process should print a different number using the multiprocessing module in python."
   ]
  },
  {
   "cell_type": "code",
   "execution_count": null,
   "id": "37dd85b9-66a1-4765-9c1c-6bfbea5cfeff",
   "metadata": {},
   "outputs": [],
   "source": []
  }
 ],
 "metadata": {
  "kernelspec": {
   "display_name": "Python 3 (ipykernel)",
   "language": "python",
   "name": "python3"
  },
  "language_info": {
   "codemirror_mode": {
    "name": "ipython",
    "version": 3
   },
   "file_extension": ".py",
   "mimetype": "text/x-python",
   "name": "python",
   "nbconvert_exporter": "python",
   "pygments_lexer": "ipython3",
   "version": "3.10.8"
  }
 },
 "nbformat": 4,
 "nbformat_minor": 5
}
